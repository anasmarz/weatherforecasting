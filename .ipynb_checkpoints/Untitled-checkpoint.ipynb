{
 "cells": [
  {
   "cell_type": "code",
   "execution_count": 1,
   "id": "05d81e84-bd92-4ca5-ad6f-a08baacd01de",
   "metadata": {},
   "outputs": [],
   "source": [
    "import pandas as pd\n",
    "import numpy as np\n",
    "from sklearn.model_selection import train_test_split\n",
    "from sklearn.preprocessing import MinMaxScaler"
   ]
  },
  {
   "cell_type": "code",
   "execution_count": 2,
   "id": "3925c1a8-0482-455b-b045-336db254e49a",
   "metadata": {},
   "outputs": [],
   "source": [
    "from sklearn.preprocessing import MinMaxScaler, LabelEncoder"
   ]
  },
  {
   "cell_type": "code",
   "execution_count": null,
   "id": "a8ad4a04-ccd8-4d92-ac6a-902ce8b0256c",
   "metadata": {},
   "outputs": [],
   "source": [
    "import pprint"
   ]
  },
  {
   "cell_type": "code",
   "execution_count": 3,
   "id": "00534b25-1a2d-4144-84ef-a434f2e05215",
   "metadata": {},
   "outputs": [],
   "source": [
    "try:\n",
    "    df = pd.read_csv('D:\\\\ProjectAnas\\\\weatherforecasting\\\\weather_forecast1.csv', encoding='ISO-8859-1')\n",
    "except UnicodeDecodeError:\n",
    "    print(\"Error reading the file. Please check the encoding.\")"
   ]
  },
  {
   "cell_type": "code",
   "execution_count": 4,
   "id": "fc27b770-df2f-49fb-ad45-2daa567648c7",
   "metadata": {},
   "outputs": [
    {
     "data": {
      "text/html": [
       "<div>\n",
       "<style scoped>\n",
       "    .dataframe tbody tr th:only-of-type {\n",
       "        vertical-align: middle;\n",
       "    }\n",
       "\n",
       "    .dataframe tbody tr th {\n",
       "        vertical-align: top;\n",
       "    }\n",
       "\n",
       "    .dataframe thead th {\n",
       "        text-align: right;\n",
       "    }\n",
       "</style>\n",
       "<table border=\"1\" class=\"dataframe\">\n",
       "  <thead>\n",
       "    <tr style=\"text-align: right;\">\n",
       "      <th></th>\n",
       "      <th>Location</th>\n",
       "      <th>Date</th>\n",
       "      <th>Morning Forecast</th>\n",
       "      <th>Afternoon Forecast</th>\n",
       "      <th>Night Forecast</th>\n",
       "      <th>Summary Forecast</th>\n",
       "      <th>Summary When</th>\n",
       "      <th>Min Temperature (Â°C)</th>\n",
       "      <th>Max Temperature (Â°C)</th>\n",
       "      <th>Energy Output</th>\n",
       "    </tr>\n",
       "  </thead>\n",
       "  <tbody>\n",
       "    <tr>\n",
       "      <th>0</th>\n",
       "      <td>Langkawi</td>\n",
       "      <td>2024-07-08</td>\n",
       "      <td>Hujan di beberapa tempat</td>\n",
       "      <td>Ribut petir di beberapa tempat</td>\n",
       "      <td>Tiada hujan</td>\n",
       "      <td>Ribut petir di beberapa tempat</td>\n",
       "      <td>Petang</td>\n",
       "      <td>26</td>\n",
       "      <td>33</td>\n",
       "      <td>56.5</td>\n",
       "    </tr>\n",
       "    <tr>\n",
       "      <th>1</th>\n",
       "      <td>Langkawi</td>\n",
       "      <td>2024-07-07</td>\n",
       "      <td>Hujan di beberapa tempat</td>\n",
       "      <td>Ribut petir di beberapa tempat</td>\n",
       "      <td>Tiada hujan</td>\n",
       "      <td>Ribut petir di beberapa tempat</td>\n",
       "      <td>Petang</td>\n",
       "      <td>26</td>\n",
       "      <td>33</td>\n",
       "      <td>56.5</td>\n",
       "    </tr>\n",
       "    <tr>\n",
       "      <th>2</th>\n",
       "      <td>Langkawi</td>\n",
       "      <td>2024-07-06</td>\n",
       "      <td>Hujan di beberapa tempat</td>\n",
       "      <td>Ribut petir di beberapa tempat</td>\n",
       "      <td>Tiada hujan</td>\n",
       "      <td>Ribut petir di beberapa tempat</td>\n",
       "      <td>Petang</td>\n",
       "      <td>26</td>\n",
       "      <td>33</td>\n",
       "      <td>56.5</td>\n",
       "    </tr>\n",
       "    <tr>\n",
       "      <th>3</th>\n",
       "      <td>Langkawi</td>\n",
       "      <td>2024-07-05</td>\n",
       "      <td>Hujan di beberapa tempat</td>\n",
       "      <td>Ribut petir di beberapa tempat</td>\n",
       "      <td>Tiada hujan</td>\n",
       "      <td>Ribut petir di beberapa tempat</td>\n",
       "      <td>Petang</td>\n",
       "      <td>26</td>\n",
       "      <td>33</td>\n",
       "      <td>56.5</td>\n",
       "    </tr>\n",
       "    <tr>\n",
       "      <th>4</th>\n",
       "      <td>Langkawi</td>\n",
       "      <td>2024-07-04</td>\n",
       "      <td>Hujan di beberapa tempat</td>\n",
       "      <td>Tiada hujan</td>\n",
       "      <td>Tiada hujan</td>\n",
       "      <td>Hujan di beberapa tempat</td>\n",
       "      <td>Pagi</td>\n",
       "      <td>26</td>\n",
       "      <td>33</td>\n",
       "      <td>56.5</td>\n",
       "    </tr>\n",
       "  </tbody>\n",
       "</table>\n",
       "</div>"
      ],
      "text/plain": [
       "   Location        Date          Morning Forecast  \\\n",
       "0  Langkawi  2024-07-08  Hujan di beberapa tempat   \n",
       "1  Langkawi  2024-07-07  Hujan di beberapa tempat   \n",
       "2  Langkawi  2024-07-06  Hujan di beberapa tempat   \n",
       "3  Langkawi  2024-07-05  Hujan di beberapa tempat   \n",
       "4  Langkawi  2024-07-04  Hujan di beberapa tempat   \n",
       "\n",
       "               Afternoon Forecast Night Forecast  \\\n",
       "0  Ribut petir di beberapa tempat    Tiada hujan   \n",
       "1  Ribut petir di beberapa tempat    Tiada hujan   \n",
       "2  Ribut petir di beberapa tempat    Tiada hujan   \n",
       "3  Ribut petir di beberapa tempat    Tiada hujan   \n",
       "4                     Tiada hujan    Tiada hujan   \n",
       "\n",
       "                 Summary Forecast Summary When  Min Temperature (Â°C)  \\\n",
       "0  Ribut petir di beberapa tempat       Petang                     26   \n",
       "1  Ribut petir di beberapa tempat       Petang                     26   \n",
       "2  Ribut petir di beberapa tempat       Petang                     26   \n",
       "3  Ribut petir di beberapa tempat       Petang                     26   \n",
       "4        Hujan di beberapa tempat         Pagi                     26   \n",
       "\n",
       "   Max Temperature (Â°C)  Energy Output  \n",
       "0                     33           56.5  \n",
       "1                     33           56.5  \n",
       "2                     33           56.5  \n",
       "3                     33           56.5  \n",
       "4                     33           56.5  "
      ]
     },
     "execution_count": 4,
     "metadata": {},
     "output_type": "execute_result"
    }
   ],
   "source": [
    "df.head()\n",
    "\n"
   ]
  },
  {
   "cell_type": "code",
   "execution_count": 5,
   "id": "819036a1-6c15-4280-9366-4f3914745cb3",
   "metadata": {},
   "outputs": [],
   "source": [
    "# Select relevant features\n",
    "features = ['Min Temperature (°C)', 'Max Temperature (°C)', 'Morning Forecast', 'Afternoon Forecast', 'Night Forecast', 'Summary Forecast']\n",
    "target = 'Energy Output'"
   ]
  },
  {
   "cell_type": "code",
   "execution_count": 13,
   "id": "1cf13c70-0805-4fd6-bb35-4d0a1cdb76fe",
   "metadata": {},
   "outputs": [
    {
     "name": "stdout",
     "output_type": "stream",
     "text": [
      "Index(['Location', 'Date', 'Morning Forecast', 'Afternoon Forecast',\n",
      "       'Night Forecast', 'Summary Forecast', 'Summary When',\n",
      "       'Min Temperature (°C)', 'Max Temperature (°C)', 'Energy Output'],\n",
      "      dtype='object')\n"
     ]
    }
   ],
   "source": [
    "features = ['Min Temperature (°C)', 'Max Temperature (°C)']"
   ]
  },
  {
   "cell_type": "code",
   "execution_count": 9,
   "id": "9da87434-e39c-4b98-932b-eb0f577fc40a",
   "metadata": {},
   "outputs": [
    {
     "name": "stdout",
     "output_type": "stream",
     "text": [
      "Unique values in 'Morning Forecast':\n",
      "['Hujan di beberapa tempat' 'Tiada hujan' 'Ribut petir di beberapa tempat'\n",
      " 'Hujan di kebanyakan tempat' 'Ribut petir di kebanyakan tempat' 'Hujan'\n",
      " 'Ribut petir' 'Hujan di beberapa tempat di kawasan pantai'\n",
      " 'Ribut petir di beberapa tempat di kawasan pedalaman'\n",
      " 'Ribut petir di beberapa tempat di kawasan pantai'\n",
      " 'Hujan di beberapa tempat di kawasan pedalaman']\n"
     ]
    },
    {
     "ename": "NameError",
     "evalue": "name 'forecast_mapping' is not defined",
     "output_type": "error",
     "traceback": [
      "\u001b[1;31m---------------------------------------------------------------------------\u001b[0m",
      "\u001b[1;31mNameError\u001b[0m                                 Traceback (most recent call last)",
      "Cell \u001b[1;32mIn[9], line 6\u001b[0m\n\u001b[0;32m      3\u001b[0m \u001b[38;5;28mprint\u001b[39m(df[\u001b[38;5;124m'\u001b[39m\u001b[38;5;124mMorning Forecast\u001b[39m\u001b[38;5;124m'\u001b[39m]\u001b[38;5;241m.\u001b[39munique())\n\u001b[0;32m      5\u001b[0m \u001b[38;5;66;03m# Map forecasts\u001b[39;00m\n\u001b[1;32m----> 6\u001b[0m df[\u001b[38;5;124m'\u001b[39m\u001b[38;5;124mMapped Forecast\u001b[39m\u001b[38;5;124m'\u001b[39m] \u001b[38;5;241m=\u001b[39m df[\u001b[38;5;124m'\u001b[39m\u001b[38;5;124mMorning Forecast\u001b[39m\u001b[38;5;124m'\u001b[39m]\u001b[38;5;241m.\u001b[39mmap(forecast_mapping)\n\u001b[0;32m      7\u001b[0m \u001b[38;5;28mprint\u001b[39m(\u001b[38;5;124m\"\u001b[39m\u001b[38;5;124mMapped Forecast values:\u001b[39m\u001b[38;5;124m\"\u001b[39m)\n\u001b[0;32m      8\u001b[0m \u001b[38;5;28mprint\u001b[39m(df[[\u001b[38;5;124m'\u001b[39m\u001b[38;5;124mMorning Forecast\u001b[39m\u001b[38;5;124m'\u001b[39m, \u001b[38;5;124m'\u001b[39m\u001b[38;5;124mMapped Forecast\u001b[39m\u001b[38;5;124m'\u001b[39m]])\n",
      "\u001b[1;31mNameError\u001b[0m: name 'forecast_mapping' is not defined"
     ]
    }
   ],
   "source": [
    "# Check unique values\n",
    "print(\"Unique values in 'Morning Forecast':\")\n",
    "print(df['Morning Forecast'].unique())\n",
    "\n",
    "# Map forecasts\n",
    "df['Mapped Forecast'] = df['Morning Forecast'].map(forecast_mapping)\n",
    "print(\"Mapped Forecast values:\")\n",
    "print(df[['Morning Forecast', 'Mapped Forecast']])\n",
    "\n",
    "# Check for NaN values in mapped column\n",
    "print(\"NaN values in 'Mapped Forecast':\", df['Mapped Forecast'].isna().sum())\n",
    "\n",
    "# Calculate Energy Output\n",
    "df['Energy Output'] = df['Max Temperature (°C)'] * 0.5 + df['Mapped Forecast'] * 100\n",
    "\n",
    "# Drop the temporary column\n",
    "df = df.drop(columns=['Mapped Forecast'])\n",
    "\n",
    "print(\"Updated DataFrame:\")\n",
    "print(df.head())"
   ]
  },
  {
   "cell_type": "code",
   "execution_count": null,
   "id": "af3067fa-b1f3-41e8-a7de-04dc125b38ad",
   "metadata": {},
   "outputs": [],
   "source": [
    "# Convert categorical features to numerical values\n",
    "label_encoders = {}\n",
    "for feature in ['Morning Forecast', 'Afternoon Forecast', 'Night Forecast', 'Summary Forecast']:\n",
    "    le = LabelEncoder()\n",
    "    df[feature] = le.fit_transform(df[feature])\n",
    "    label_encoders[feature] = le\n",
    "\n",
    "X = df[features]\n",
    "y = df[target]"
   ]
  },
  {
   "cell_type": "code",
   "execution_count": 64,
   "id": "013f1e84-b587-4f56-bbd1-7622ec809c40",
   "metadata": {},
   "outputs": [],
   "source": [
    "\n",
    "# Normalize the data\n",
    "scaler = MinMaxScaler()\n",
    "X_scaled = scaler.fit_transform(X)\n",
    "\n",
    "# Reshape input for LSTM (samples, timesteps, features)\n",
    "n_timesteps = 1\n",
    "n_features = X.shape[1]\n",
    "X_scaled_reshaped = X_scaled.reshape((X_scaled.shape[0], n_timesteps, n_features))\n",
    "\n",
    "# Split the data into training and test sets (skipping this step due to the small dataset size)\n",
    "X_train, X_test, y_train, y_test = X_scaled_reshaped, X_scaled_reshaped, y, y  # Placeholder for simplicity"
   ]
  },
  {
   "cell_type": "code",
   "execution_count": null,
   "id": "04b743a8-5785-44bb-b784-7279f302c8b5",
   "metadata": {},
   "outputs": [],
   "source": [
    "# Assuming df is your DataFrame and y is derived from it\n",
    "df_clean = df.dropna(subset=['Energy Output'])\n",
    "\n",
    "# Recompute y and X from the cleaned DataFrame\n",
    "y_clean = df_clean['Energy Output'].values\n",
    "X_clean = df_clean[features].values\n",
    "\n",
    "# Re-scale X\n",
    "X_scaled_clean = scaler.fit_transform(X_clean)\n",
    "\n",
    "# Reshape input for LSTM\n",
    "X_scaled_reshaped_clean = X_scaled_clean.reshape((X_scaled_clean.shape[0], n_timesteps, n_features))\n",
    "\n",
    "# Perform the split again on the cleaned data\n",
    "X_train, X_test, y_train, y_test = train_test_split(X_scaled_reshaped_clean, y_clean, test_size=0.2, random_state=42)"
   ]
  },
  {
   "cell_type": "code",
   "execution_count": 65,
   "id": "552a05e9-6b2b-48b8-a95d-1286e949fcef",
   "metadata": {},
   "outputs": [],
   "source": [
    "import tensorflow as tf\n",
    "from tensorflow.keras.models import Sequential\n",
    "from tensorflow.keras.layers import Dense, LSTM"
   ]
  },
  {
   "cell_type": "code",
   "execution_count": 66,
   "id": "60b5e703-752f-4d7e-b5cb-32284137ae45",
   "metadata": {},
   "outputs": [
    {
     "data": {
      "text/plain": [
       "<keras.src.callbacks.history.History at 0x1ec10fbca50>"
      ]
     },
     "execution_count": 66,
     "metadata": {},
     "output_type": "execute_result"
    }
   ],
   "source": [
    "from keras.models import Sequential\n",
    "from keras.layers import Input, LSTM, Dense\n",
    "\n",
    "# Define the model\n",
    "model = Sequential()\n",
    "model.add(Input(shape=(n_timesteps, n_features)))  # Specify the input shape here\n",
    "model.add(LSTM(50, activation='relu'))\n",
    "model.add(Dense(1))\n",
    "model.compile(optimizer='adam', loss='mse')\n",
    "\n",
    "# Train the model (using the entire dataset due to small size)\n",
    "model.fit(X_train, y_train, epochs=200, verbose=0)\n"
   ]
  },
  {
   "cell_type": "code",
   "execution_count": 68,
   "id": "7d253254-445e-4423-96d0-006d9bf5776f",
   "metadata": {},
   "outputs": [
    {
     "name": "stdout",
     "output_type": "stream",
     "text": [
      "\u001b[1m79/79\u001b[0m \u001b[32m━━━━━━━━━━━━━━━━━━━━\u001b[0m\u001b[37m\u001b[0m \u001b[1m0s\u001b[0m 3ms/step \n"
     ]
    }
   ],
   "source": [
    "# Make predictions\n",
    "y_pred = model.predict(X_test)\n",
    "\n",
    "# Convert predictions and true values to 1D arrays for evaluation\n",
    "y_test = np.array(y_test)\n",
    "y_pred = np.array(y_pred).flatten()"
   ]
  },
  {
   "cell_type": "code",
   "execution_count": 67,
   "id": "b50ab58c-7ae0-4e21-be74-30189e7dae29",
   "metadata": {},
   "outputs": [
    {
     "name": "stdout",
     "output_type": "stream",
     "text": [
      "Initial shapes:\n",
      "y_test shape: (2520,)\n",
      "y_pred shape: (2520,)\n"
     ]
    }
   ],
   "source": [
    "# Check data before NaN handling\n",
    "print(\"Initial shapes:\")\n",
    "print(f\"y_test shape: {y_test.shape}\")\n",
    "print(f\"y_pred shape: {y_pred.shape}\")\n"
   ]
  },
  {
   "cell_type": "code",
   "execution_count": 69,
   "id": "571961b0-c5bf-4d05-a57b-016dce14d553",
   "metadata": {},
   "outputs": [
    {
     "name": "stdout",
     "output_type": "stream",
     "text": [
      "Initial y_test values: [56.5 56.5 56.5 ... 34.  74.  34. ]\n",
      "Initial y_pred values: [nan nan nan ... nan nan nan]\n"
     ]
    }
   ],
   "source": [
    "# Debugging: Check the content of y_test and y_pred\n",
    "print(\"Initial y_test values:\", y_test)\n",
    "print(\"Initial y_pred values:\", y_pred)"
   ]
  },
  {
   "cell_type": "code",
   "execution_count": 30,
   "id": "0eeb584f-7ebe-4b83-bd6d-6291e6ab11d5",
   "metadata": {},
   "outputs": [
    {
     "name": "stdout",
     "output_type": "stream",
     "text": [
      "NaN values in y_test: 0\n",
      "NaN values in y_pred: 2520\n"
     ]
    }
   ],
   "source": [
    "# Check for NaN values\n",
    "print(\"NaN values in y_test:\", np.isnan(y_test).sum())\n",
    "print(\"NaN values in y_pred:\", np.isnan(y_pred).sum())"
   ]
  },
  {
   "cell_type": "code",
   "execution_count": 31,
   "id": "84637edf-8336-459a-a607-83a8e64c6987",
   "metadata": {},
   "outputs": [
    {
     "ename": "ValueError",
     "evalue": "operands could not be broadcast together with shapes (0,) (2520,) ",
     "output_type": "error",
     "traceback": [
      "\u001b[1;31m---------------------------------------------------------------------------\u001b[0m",
      "\u001b[1;31mValueError\u001b[0m                                Traceback (most recent call last)",
      "Cell \u001b[1;32mIn[31], line 3\u001b[0m\n\u001b[0;32m      1\u001b[0m \u001b[38;5;66;03m# Remove NaN values if present\u001b[39;00m\n\u001b[0;32m      2\u001b[0m \u001b[38;5;28;01mif\u001b[39;00m np\u001b[38;5;241m.\u001b[39misnan(y_test)\u001b[38;5;241m.\u001b[39many() \u001b[38;5;129;01mor\u001b[39;00m np\u001b[38;5;241m.\u001b[39misnan(y_pred)\u001b[38;5;241m.\u001b[39many():\n\u001b[1;32m----> 3\u001b[0m     valid_indices \u001b[38;5;241m=\u001b[39m \u001b[38;5;241m~\u001b[39mnp\u001b[38;5;241m.\u001b[39misnan(y_test) \u001b[38;5;241m&\u001b[39m \u001b[38;5;241m~\u001b[39mnp\u001b[38;5;241m.\u001b[39misnan(y_pred)\n\u001b[0;32m      4\u001b[0m     y_test \u001b[38;5;241m=\u001b[39m y_test[valid_indices]\n\u001b[0;32m      5\u001b[0m     y_pred \u001b[38;5;241m=\u001b[39m y_pred[valid_indices]\n",
      "\u001b[1;31mValueError\u001b[0m: operands could not be broadcast together with shapes (0,) (2520,) "
     ]
    }
   ],
   "source": [
    "# Remove NaN values if present\n",
    "if np.isnan(y_test).any() or np.isnan(y_pred).any():\n",
    "    valid_indices = ~np.isnan(y_test) & ~np.isnan(y_pred)\n",
    "    y_test = y_test[valid_indices]\n",
    "    y_pred = y_pred[valid_indices]\n"
   ]
  },
  {
   "cell_type": "code",
   "execution_count": 32,
   "id": "15d3952e-4e61-4f24-8b3b-f82538ee94c7",
   "metadata": {},
   "outputs": [
    {
     "ename": "ValueError",
     "evalue": "No valid data left for evaluation after handling NaNs.",
     "output_type": "error",
     "traceback": [
      "\u001b[1;31m---------------------------------------------------------------------------\u001b[0m",
      "\u001b[1;31mValueError\u001b[0m                                Traceback (most recent call last)",
      "Cell \u001b[1;32mIn[32], line 3\u001b[0m\n\u001b[0;32m      1\u001b[0m \u001b[38;5;66;03m# Ensure there's data left for evaluation\u001b[39;00m\n\u001b[0;32m      2\u001b[0m \u001b[38;5;28;01mif\u001b[39;00m \u001b[38;5;28mlen\u001b[39m(y_test) \u001b[38;5;241m==\u001b[39m \u001b[38;5;241m0\u001b[39m \u001b[38;5;129;01mor\u001b[39;00m \u001b[38;5;28mlen\u001b[39m(y_pred) \u001b[38;5;241m==\u001b[39m \u001b[38;5;241m0\u001b[39m:\n\u001b[1;32m----> 3\u001b[0m     \u001b[38;5;28;01mraise\u001b[39;00m \u001b[38;5;167;01mValueError\u001b[39;00m(\u001b[38;5;124m\"\u001b[39m\u001b[38;5;124mNo valid data left for evaluation after handling NaNs.\u001b[39m\u001b[38;5;124m\"\u001b[39m)\n",
      "\u001b[1;31mValueError\u001b[0m: No valid data left for evaluation after handling NaNs."
     ]
    }
   ],
   "source": [
    "# Ensure there's data left for evaluation\n",
    "if len(y_test) == 0 or len(y_pred) == 0:\n",
    "    raise ValueError(\"No valid data left for evaluation after handling NaNs.\")"
   ]
  },
  {
   "cell_type": "code",
   "execution_count": null,
   "id": "67a3d432-5282-4b5f-ab35-6e62be573d80",
   "metadata": {},
   "outputs": [],
   "source": [
    "mae = mean_absolute_error(y_test, y_pred)\n",
    "rmse = math.sqrt(mean_squared_error(y_test, y_pred))\n",
    "\n",
    "print(f'Mean Absolute Error: {mae}')\n",
    "print(f'Root Mean Squared Error: {rmse}')"
   ]
  },
  {
   "cell_type": "code",
   "execution_count": null,
   "id": "2064f689-ab57-446a-a1f2-4e8d9b01d221",
   "metadata": {},
   "outputs": [],
   "source": [
    "# Predict on the test set\n",
    "y_pred = model.predict(X_test)\n",
    "\n",
    "# Evaluate the model\n",
    "mae = mean_absolute_error(y_test, y_pred)\n",
    "rmse = math.sqrt(mean_squared_error(y_test, y_pred))\n",
    "\n",
    "print(f'Mean Absolute Error: {mae}')\n",
    "print(f'Root Mean Squared Error: {rmse}')"
   ]
  },
  {
   "cell_type": "code",
   "execution_count": null,
   "id": "a84a7970-850b-4888-b568-0d5034182553",
   "metadata": {},
   "outputs": [],
   "source": []
  }
 ],
 "metadata": {
  "kernelspec": {
   "display_name": "Python 3 (ipykernel)",
   "language": "python",
   "name": "python3"
  },
  "language_info": {
   "codemirror_mode": {
    "name": "ipython",
    "version": 3
   },
   "file_extension": ".py",
   "mimetype": "text/x-python",
   "name": "python",
   "nbconvert_exporter": "python",
   "pygments_lexer": "ipython3",
   "version": "3.11.7"
  }
 },
 "nbformat": 4,
 "nbformat_minor": 5
}
