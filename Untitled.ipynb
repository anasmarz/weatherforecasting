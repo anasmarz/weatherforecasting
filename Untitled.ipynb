{
 "cells": [
  {
   "cell_type": "code",
   "execution_count": 1,
   "id": "05d81e84-bd92-4ca5-ad6f-a08baacd01de",
   "metadata": {},
   "outputs": [],
   "source": [
    "import pandas as pd\n",
    "import numpy as np\n",
    "from sklearn.model_selection import train_test_split\n",
    "from sklearn.preprocessing import MinMaxScaler"
   ]
  },
  {
   "cell_type": "code",
   "execution_count": 2,
   "id": "3925c1a8-0482-455b-b045-336db254e49a",
   "metadata": {},
   "outputs": [],
   "source": [
    "from sklearn.preprocessing import MinMaxScaler, LabelEncoder"
   ]
  },
  {
   "cell_type": "code",
   "execution_count": 3,
   "id": "a8ad4a04-ccd8-4d92-ac6a-902ce8b0256c",
   "metadata": {},
   "outputs": [],
   "source": [
    "from sklearn.metrics import mean_absolute_error, mean_squared_error\n",
    "import math"
   ]
  },
  {
   "cell_type": "code",
   "execution_count": 29,
   "id": "00534b25-1a2d-4144-84ef-a434f2e05215",
   "metadata": {},
   "outputs": [],
   "source": [
    "try:\n",
    "    df = pd.read_csv('D:\\\\ProjectAnas\\\\weatherforecasting\\\\weather_forecast1.csv', encoding='ISO-8859-1')\n",
    "except UnicodeDecodeError:\n",
    "    print(\"Error reading the file. Please check the encoding.\")"
   ]
  },
  {
   "cell_type": "code",
   "execution_count": 30,
   "id": "fc27b770-df2f-49fb-ad45-2daa567648c7",
   "metadata": {},
   "outputs": [
    {
     "data": {
      "text/html": [
       "<div>\n",
       "<style scoped>\n",
       "    .dataframe tbody tr th:only-of-type {\n",
       "        vertical-align: middle;\n",
       "    }\n",
       "\n",
       "    .dataframe tbody tr th {\n",
       "        vertical-align: top;\n",
       "    }\n",
       "\n",
       "    .dataframe thead th {\n",
       "        text-align: right;\n",
       "    }\n",
       "</style>\n",
       "<table border=\"1\" class=\"dataframe\">\n",
       "  <thead>\n",
       "    <tr style=\"text-align: right;\">\n",
       "      <th></th>\n",
       "      <th>Location</th>\n",
       "      <th>Date</th>\n",
       "      <th>Morning Forecast</th>\n",
       "      <th>Afternoon Forecast</th>\n",
       "      <th>Night Forecast</th>\n",
       "      <th>Summary Forecast</th>\n",
       "      <th>Summary When</th>\n",
       "      <th>Min Temperature (Â°C)</th>\n",
       "      <th>Max Temperature (Â°C)</th>\n",
       "      <th>Energy Output</th>\n",
       "    </tr>\n",
       "  </thead>\n",
       "  <tbody>\n",
       "    <tr>\n",
       "      <th>0</th>\n",
       "      <td>Langkawi</td>\n",
       "      <td>2024-07-08</td>\n",
       "      <td>Hujan di beberapa tempat</td>\n",
       "      <td>Ribut petir di beberapa tempat</td>\n",
       "      <td>Tiada hujan</td>\n",
       "      <td>Ribut petir di beberapa tempat</td>\n",
       "      <td>Petang</td>\n",
       "      <td>26</td>\n",
       "      <td>33</td>\n",
       "      <td>56.5</td>\n",
       "    </tr>\n",
       "    <tr>\n",
       "      <th>1</th>\n",
       "      <td>Langkawi</td>\n",
       "      <td>2024-07-07</td>\n",
       "      <td>Hujan di beberapa tempat</td>\n",
       "      <td>Ribut petir di beberapa tempat</td>\n",
       "      <td>Tiada hujan</td>\n",
       "      <td>Ribut petir di beberapa tempat</td>\n",
       "      <td>Petang</td>\n",
       "      <td>26</td>\n",
       "      <td>33</td>\n",
       "      <td>56.5</td>\n",
       "    </tr>\n",
       "    <tr>\n",
       "      <th>2</th>\n",
       "      <td>Langkawi</td>\n",
       "      <td>2024-07-06</td>\n",
       "      <td>Hujan di beberapa tempat</td>\n",
       "      <td>Ribut petir di beberapa tempat</td>\n",
       "      <td>Tiada hujan</td>\n",
       "      <td>Ribut petir di beberapa tempat</td>\n",
       "      <td>Petang</td>\n",
       "      <td>26</td>\n",
       "      <td>33</td>\n",
       "      <td>56.5</td>\n",
       "    </tr>\n",
       "    <tr>\n",
       "      <th>3</th>\n",
       "      <td>Langkawi</td>\n",
       "      <td>2024-07-05</td>\n",
       "      <td>Hujan di beberapa tempat</td>\n",
       "      <td>Ribut petir di beberapa tempat</td>\n",
       "      <td>Tiada hujan</td>\n",
       "      <td>Ribut petir di beberapa tempat</td>\n",
       "      <td>Petang</td>\n",
       "      <td>26</td>\n",
       "      <td>33</td>\n",
       "      <td>56.5</td>\n",
       "    </tr>\n",
       "    <tr>\n",
       "      <th>4</th>\n",
       "      <td>Langkawi</td>\n",
       "      <td>2024-07-04</td>\n",
       "      <td>Hujan di beberapa tempat</td>\n",
       "      <td>Tiada hujan</td>\n",
       "      <td>Tiada hujan</td>\n",
       "      <td>Hujan di beberapa tempat</td>\n",
       "      <td>Pagi</td>\n",
       "      <td>26</td>\n",
       "      <td>33</td>\n",
       "      <td>56.5</td>\n",
       "    </tr>\n",
       "  </tbody>\n",
       "</table>\n",
       "</div>"
      ],
      "text/plain": [
       "   Location        Date          Morning Forecast  \\\n",
       "0  Langkawi  2024-07-08  Hujan di beberapa tempat   \n",
       "1  Langkawi  2024-07-07  Hujan di beberapa tempat   \n",
       "2  Langkawi  2024-07-06  Hujan di beberapa tempat   \n",
       "3  Langkawi  2024-07-05  Hujan di beberapa tempat   \n",
       "4  Langkawi  2024-07-04  Hujan di beberapa tempat   \n",
       "\n",
       "               Afternoon Forecast Night Forecast  \\\n",
       "0  Ribut petir di beberapa tempat    Tiada hujan   \n",
       "1  Ribut petir di beberapa tempat    Tiada hujan   \n",
       "2  Ribut petir di beberapa tempat    Tiada hujan   \n",
       "3  Ribut petir di beberapa tempat    Tiada hujan   \n",
       "4                     Tiada hujan    Tiada hujan   \n",
       "\n",
       "                 Summary Forecast Summary When  Min Temperature (Â°C)  \\\n",
       "0  Ribut petir di beberapa tempat       Petang                     26   \n",
       "1  Ribut petir di beberapa tempat       Petang                     26   \n",
       "2  Ribut petir di beberapa tempat       Petang                     26   \n",
       "3  Ribut petir di beberapa tempat       Petang                     26   \n",
       "4        Hujan di beberapa tempat         Pagi                     26   \n",
       "\n",
       "   Max Temperature (Â°C)  Energy Output  \n",
       "0                     33           56.5  \n",
       "1                     33           56.5  \n",
       "2                     33           56.5  \n",
       "3                     33           56.5  \n",
       "4                     33           56.5  "
      ]
     },
     "execution_count": 30,
     "metadata": {},
     "output_type": "execute_result"
    }
   ],
   "source": [
    "df.head()\n",
    "\n"
   ]
  },
  {
   "cell_type": "code",
   "execution_count": 35,
   "id": "819036a1-6c15-4280-9366-4f3914745cb3",
   "metadata": {},
   "outputs": [],
   "source": [
    "# Select relevant features\n",
    "features = ['Min Temperature (Â°C)', 'Max Temperature (Â°C)', 'Morning Forecast', 'Afternoon Forecast', 'Night Forecast', 'Summary Forecast']\n",
    "target = 'Energy Output'"
   ]
  },
  {
   "cell_type": "code",
   "execution_count": 36,
   "id": "1cf13c70-0805-4fd6-bb35-4d0a1cdb76fe",
   "metadata": {},
   "outputs": [],
   "source": [
    "X = df[features]\n",
    "y = df[target]"
   ]
  },
  {
   "cell_type": "code",
   "execution_count": 34,
   "id": "8e9e7c99-d06b-4a93-86b6-80e57421a25c",
   "metadata": {},
   "outputs": [
    {
     "name": "stdout",
     "output_type": "stream",
     "text": [
      "Checking for NaN values:\n",
      "Location                 0\n",
      "Date                     0\n",
      "Morning Forecast         0\n",
      "Afternoon Forecast       0\n",
      "Night Forecast           0\n",
      "Summary Forecast         0\n",
      "Summary When             0\n",
      "Min Temperature (Â°C)    0\n",
      "Max Temperature (Â°C)    0\n",
      "Energy Output            0\n",
      "dtype: int64\n"
     ]
    }
   ],
   "source": [
    "print(\"Checking for NaN values:\")\n",
    "print(df.isna().sum())"
   ]
  },
  {
   "cell_type": "code",
   "execution_count": 33,
   "id": "ec92122d-6714-4638-9cc6-fcbe239f529c",
   "metadata": {},
   "outputs": [],
   "source": [
    "# Handle NaN values if any (fill with 0 or remove rows)\n",
    "df = df.dropna()  # Drop rows with NaN values"
   ]
  },
  {
   "cell_type": "code",
   "execution_count": null,
   "id": "3a8b23fb",
   "metadata": {},
   "outputs": [],
   "source": [
    "# Convert categorical features to numerical values\n",
    "label_encoders = {}\n",
    "for feature in ['Morning Forecast', 'Afternoon Forecast', 'Night Forecast', 'Summary Forecast']:\n",
    "    le = LabelEncoder()\n",
    "    df[feature] = le.fit_transform(df[feature])\n",
    "    label_encoders[feature] = le"
   ]
  },
  {
   "cell_type": "code",
   "execution_count": 39,
   "id": "bfca6f82-3c46-44fe-8681-b065fbb7d846",
   "metadata": {},
   "outputs": [],
   "source": [
    "# Normalize features\n",
    "scaler = MinMaxScaler()\n",
    "X_scaled = scaler.fit_transform(X)\n",
    "\n",
    "# Convert data to numpy arrays\n",
    "X_scaled = np.array(X_scaled)\n",
    "y = np.array(y)"
   ]
  },
  {
   "cell_type": "code",
   "execution_count": 40,
   "id": "a25d2e39-c977-4353-9f90-459e40facc77",
   "metadata": {},
   "outputs": [],
   "source": [
    "# Reshape data for LSTM (samples, timesteps, features)\n",
    "# For simplicity, we'll use the whole dataset as a single sequence\n",
    "X_reshaped = X_scaled.reshape((X_scaled.shape[0], 1, X_scaled.shape[1]))\n",
    "\n",
    "# Split data (Note: With small data, this is more illustrative. Consider more data for a real use case)\n",
    "split_index = int(len(X_reshaped) * 0.8)\n",
    "X_train, X_test = X_reshaped[:split_index], X_reshaped[split_index:]\n",
    "y_train, y_test = y[:split_index], y[split_index:]"
   ]
  },
  {
   "cell_type": "code",
   "execution_count": 43,
   "id": "3476bd18-0e87-4c83-9fb5-b8cf3d91a618",
   "metadata": {},
   "outputs": [
    {
     "name": "stdout",
     "output_type": "stream",
     "text": [
      "Epoch 1/20\n"
     ]
    },
    {
     "name": "stderr",
     "output_type": "stream",
     "text": [
      "D:\\anaconda3\\envs\\base1\\Lib\\site-packages\\keras\\src\\layers\\rnn\\rnn.py:204: UserWarning: Do not pass an `input_shape`/`input_dim` argument to a layer. When using Sequential models, prefer using an `Input(shape)` object as the first layer in the model instead.\n",
      "  super().__init__(**kwargs)\n"
     ]
    },
    {
     "name": "stdout",
     "output_type": "stream",
     "text": [
      "\u001b[1m1588/1588\u001b[0m \u001b[32m━━━━━━━━━━━━━━━━━━━━\u001b[0m\u001b[37m\u001b[0m \u001b[1m3s\u001b[0m 1ms/step - loss: 1167.5619 - val_loss: 122.1501\n",
      "Epoch 2/20\n",
      "\u001b[1m1588/1588\u001b[0m \u001b[32m━━━━━━━━━━━━━━━━━━━━\u001b[0m\u001b[37m\u001b[0m \u001b[1m1s\u001b[0m 853us/step - loss: 211.0561 - val_loss: 130.7894\n",
      "Epoch 3/20\n",
      "\u001b[1m1588/1588\u001b[0m \u001b[32m━━━━━━━━━━━━━━━━━━━━\u001b[0m\u001b[37m\u001b[0m \u001b[1m1s\u001b[0m 881us/step - loss: 225.6333 - val_loss: 118.6312\n",
      "Epoch 4/20\n",
      "\u001b[1m1588/1588\u001b[0m \u001b[32m━━━━━━━━━━━━━━━━━━━━\u001b[0m\u001b[37m\u001b[0m \u001b[1m1s\u001b[0m 856us/step - loss: 187.8315 - val_loss: 80.8395\n",
      "Epoch 5/20\n",
      "\u001b[1m1588/1588\u001b[0m \u001b[32m━━━━━━━━━━━━━━━━━━━━\u001b[0m\u001b[37m\u001b[0m \u001b[1m3s\u001b[0m 897us/step - loss: 141.3347 - val_loss: 67.3391\n",
      "Epoch 6/20\n",
      "\u001b[1m1588/1588\u001b[0m \u001b[32m━━━━━━━━━━━━━━━━━━━━\u001b[0m\u001b[37m\u001b[0m \u001b[1m1s\u001b[0m 876us/step - loss: 111.4617 - val_loss: 66.7236\n",
      "Epoch 7/20\n",
      "\u001b[1m1588/1588\u001b[0m \u001b[32m━━━━━━━━━━━━━━━━━━━━\u001b[0m\u001b[37m\u001b[0m \u001b[1m1s\u001b[0m 900us/step - loss: 109.1568 - val_loss: 57.8679\n",
      "Epoch 8/20\n",
      "\u001b[1m1588/1588\u001b[0m \u001b[32m━━━━━━━━━━━━━━━━━━━━\u001b[0m\u001b[37m\u001b[0m \u001b[1m1s\u001b[0m 842us/step - loss: 118.4085 - val_loss: 53.2051\n",
      "Epoch 9/20\n",
      "\u001b[1m1588/1588\u001b[0m \u001b[32m━━━━━━━━━━━━━━━━━━━━\u001b[0m\u001b[37m\u001b[0m \u001b[1m1s\u001b[0m 870us/step - loss: 93.1465 - val_loss: 38.6933\n",
      "Epoch 10/20\n",
      "\u001b[1m1588/1588\u001b[0m \u001b[32m━━━━━━━━━━━━━━━━━━━━\u001b[0m\u001b[37m\u001b[0m \u001b[1m1s\u001b[0m 904us/step - loss: 79.4108 - val_loss: 25.1818\n",
      "Epoch 11/20\n",
      "\u001b[1m1588/1588\u001b[0m \u001b[32m━━━━━━━━━━━━━━━━━━━━\u001b[0m\u001b[37m\u001b[0m \u001b[1m1s\u001b[0m 895us/step - loss: 69.9624 - val_loss: 21.3554\n",
      "Epoch 12/20\n",
      "\u001b[1m1588/1588\u001b[0m \u001b[32m━━━━━━━━━━━━━━━━━━━━\u001b[0m\u001b[37m\u001b[0m \u001b[1m1s\u001b[0m 909us/step - loss: 60.6886 - val_loss: 19.4245\n",
      "Epoch 13/20\n",
      "\u001b[1m1588/1588\u001b[0m \u001b[32m━━━━━━━━━━━━━━━━━━━━\u001b[0m\u001b[37m\u001b[0m \u001b[1m1s\u001b[0m 903us/step - loss: 50.2254 - val_loss: 17.3510\n",
      "Epoch 14/20\n",
      "\u001b[1m1588/1588\u001b[0m \u001b[32m━━━━━━━━━━━━━━━━━━━━\u001b[0m\u001b[37m\u001b[0m \u001b[1m1s\u001b[0m 911us/step - loss: 33.1777 - val_loss: 9.4696\n",
      "Epoch 15/20\n",
      "\u001b[1m1588/1588\u001b[0m \u001b[32m━━━━━━━━━━━━━━━━━━━━\u001b[0m\u001b[37m\u001b[0m \u001b[1m1s\u001b[0m 848us/step - loss: 28.9050 - val_loss: 8.5496\n",
      "Epoch 16/20\n",
      "\u001b[1m1588/1588\u001b[0m \u001b[32m━━━━━━━━━━━━━━━━━━━━\u001b[0m\u001b[37m\u001b[0m \u001b[1m3s\u001b[0m 905us/step - loss: 16.3638 - val_loss: 14.6528\n",
      "Epoch 17/20\n",
      "\u001b[1m1588/1588\u001b[0m \u001b[32m━━━━━━━━━━━━━━━━━━━━\u001b[0m\u001b[37m\u001b[0m \u001b[1m1s\u001b[0m 887us/step - loss: 15.2701 - val_loss: 3.1644\n",
      "Epoch 18/20\n",
      "\u001b[1m1588/1588\u001b[0m \u001b[32m━━━━━━━━━━━━━━━━━━━━\u001b[0m\u001b[37m\u001b[0m \u001b[1m1s\u001b[0m 893us/step - loss: 9.6428 - val_loss: 4.9053\n",
      "Epoch 19/20\n",
      "\u001b[1m1588/1588\u001b[0m \u001b[32m━━━━━━━━━━━━━━━━━━━━\u001b[0m\u001b[37m\u001b[0m \u001b[1m1s\u001b[0m 848us/step - loss: 7.9652 - val_loss: 2.8692\n",
      "Epoch 20/20\n",
      "\u001b[1m1588/1588\u001b[0m \u001b[32m━━━━━━━━━━━━━━━━━━━━\u001b[0m\u001b[37m\u001b[0m \u001b[1m1s\u001b[0m 869us/step - loss: 5.0184 - val_loss: 2.9022\n"
     ]
    }
   ],
   "source": [
    "# Build the LSTM model\n",
    "model = Sequential()\n",
    "model.add(LSTM(50, input_shape=(X_train.shape[1], X_train.shape[2]), return_sequences=False))\n",
    "model.add(Dense(1))\n",
    "\n",
    "# Compile the model\n",
    "model.compile(optimizer='adam', loss='mean_squared_error')\n",
    "\n",
    "# Train the model\n",
    "history = model.fit(X_train, y_train, epochs=20, batch_size=1, verbose=1, validation_split=0.2)\n"
   ]
  },
  {
   "cell_type": "code",
   "execution_count": 44,
   "id": "a0a923df-8073-4d68-a455-3cee8761c92a",
   "metadata": {},
   "outputs": [
    {
     "name": "stdout",
     "output_type": "stream",
     "text": [
      "\u001b[1m16/16\u001b[0m \u001b[32m━━━━━━━━━━━━━━━━━━━━\u001b[0m\u001b[37m\u001b[0m \u001b[1m0s\u001b[0m 11ms/step\n",
      "Mean Squared Error: 2.8503338501111983\n"
     ]
    },
    {
     "data": {
      "image/png": "[encoded data removed]",
      "text/plain": [
       "<Figure size 640x480 with 1 Axes>"
      ]
     },
     "metadata": {},
     "output_type": "display_data"
    }
   ],
   "source": [
    "# Make predictions\n",
    "y_pred = model.predict(X_test)\n",
    "\n",
    "# Evaluate the model\n",
    "mse = mean_squared_error(y_test, y_pred)\n",
    "print(f\"Mean Squared Error: {mse}\")\n",
    "\n",
    "# Display training history\n",
    "import matplotlib.pyplot as plt\n",
    "\n",
    "plt.plot(history.history['loss'])\n",
    "plt.plot(history.history['val_loss'])\n",
    "plt.title('Model Loss')\n",
    "plt.xlabel('Epoch')\n",
    "plt.ylabel('Loss')\n",
    "plt.legend(['Train', 'Validation'])\n",
    "plt.show()\n"
   ]
  },
  {
   "cell_type": "code",
   "execution_count": 45,
   "id": "230f23dd-8621-4a14-afc7-8aa09faac33a",
   "metadata": {},
   "outputs": [
    {
     "name": "stderr",
     "output_type": "stream",
     "text": [
      "WARNING:absl:You are saving your model as an HDF5 file via `model.save()` or `keras.saving.save_model(model)`. This file format is considered legacy. We recommend using instead the native Keras format, e.g. `model.save('my_model.keras')` or `keras.saving.save_model(model, 'my_model.keras')`. \n"
     ]
    }
   ],
   "source": [
    "model.save('weather_forecasting.h5')"
   ]
  }
 ],
 "metadata": {
  "kernelspec": {
   "display_name": "Python 3 (ipykernel)",
   "language": "python",
   "name": "python3"
  },
  "language_info": {
   "codemirror_mode": {
    "name": "ipython",
    "version": 3
   },
   "file_extension": ".py",
   "mimetype": "text/x-python",
   "name": "python",
   "nbconvert_exporter": "python",
   "pygments_lexer": "ipython3",
   "version": "3.11.7"
  }
 },
 "nbformat": 4,
 "nbformat_minor": 5
}
